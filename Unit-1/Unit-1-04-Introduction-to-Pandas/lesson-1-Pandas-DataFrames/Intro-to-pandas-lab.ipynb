{
 "cells": [
  {
   "cell_type": "markdown",
   "id": "ad078ff4",
   "metadata": {},
   "source": [
    "\n",
    "<img src=\"http://imgur.com/1ZcRyrc.png\" style=\"float: left; margin: 20px; height: 55px\">\n",
    "\n",
    "## Introduction to `pandas` - lab\n",
    "\n",
    "Consider the Superstore dataset, which consist of a two tables stored as .csv files.\n",
    "\n",
    "- Products Table (products.csv)\n",
    "- Orders Table (orders.csv)\n",
    "\n",
    "The Products Table contains the following attributes:\n",
    "\n",
    "- **product_id** - \tThe unique identifier value for the product in the order.\n",
    "- **category** - \tThe product's highest level category.\n",
    "- **sub_category** - \tThe classification of the product within the high-level category.\n",
    "- **product_name** - \tThe name of the product.\n",
    "- **product_cost_to_consumer** - \tThe cost of each product on a single quantity basis."
   ]
  },
  {
   "cell_type": "code",
   "execution_count": 1,
   "id": "bb22c316",
   "metadata": {},
   "outputs": [],
   "source": [
    "# First, import the required libraries\n"
   ]
  },
  {
   "cell_type": "markdown",
   "id": "b63ea164",
   "metadata": {},
   "source": [
    "Q1. Read in the products.csv file that is in the `datasets` directory into a DataFrame called `products`.\n",
    "\n"
   ]
  },
  {
   "cell_type": "code",
   "execution_count": 72,
   "id": "8e5eae20",
   "metadata": {},
   "outputs": [],
   "source": [
    "#Q1 Answer here\n"
   ]
  },
  {
   "cell_type": "markdown",
   "id": "ae1e0a02",
   "metadata": {},
   "source": [
    "Q2. Print the first 4 rows of the `products` DataFrame.\n"
   ]
  },
  {
   "cell_type": "code",
   "execution_count": 73,
   "id": "818bcd5d",
   "metadata": {},
   "outputs": [],
   "source": [
    "#Q2 answer here\n"
   ]
  },
  {
   "cell_type": "markdown",
   "id": "30a8632c",
   "metadata": {},
   "source": [
    "Q3. Identify the shape of the `products` DataFrame (how many rows and columns?)\n"
   ]
  },
  {
   "cell_type": "code",
   "execution_count": 74,
   "id": "c7199a89",
   "metadata": {},
   "outputs": [],
   "source": [
    "#Q3 answer here\n"
   ]
  },
  {
   "cell_type": "markdown",
   "id": "76e6e90f",
   "metadata": {},
   "source": [
    "Q4. How many products of each category are there?"
   ]
  },
  {
   "cell_type": "code",
   "execution_count": 75,
   "id": "658c4bca",
   "metadata": {},
   "outputs": [],
   "source": [
    "#Q4 Answer here\n"
   ]
  },
  {
   "cell_type": "markdown",
   "id": "88b16e75",
   "metadata": {},
   "source": [
    "Q5. What is the mean product cost to consumer for all products?"
   ]
  },
  {
   "cell_type": "code",
   "execution_count": null,
   "id": "a923c8f0",
   "metadata": {},
   "outputs": [],
   "source": []
  },
  {
   "cell_type": "markdown",
   "id": "228aa717",
   "metadata": {},
   "source": [
    "Q6. What is the mean product cost to consumer for products in the category 'Furniture'?"
   ]
  },
  {
   "cell_type": "code",
   "execution_count": null,
   "id": "aa4f2b2a",
   "metadata": {},
   "outputs": [],
   "source": []
  },
  {
   "cell_type": "markdown",
   "id": "31d235b0",
   "metadata": {},
   "source": [
    "Q7. What are the top 10 products with the highest product cost to consumer containing the word \"Recycled\" or \"Green\" in the product name?\n",
    "Return your answer as a DataFrame object."
   ]
  },
  {
   "cell_type": "code",
   "execution_count": null,
   "id": "7864c9e5",
   "metadata": {},
   "outputs": [],
   "source": []
  }
 ],
 "metadata": {
  "kernelspec": {
   "display_name": "Python 3 (ipykernel)",
   "language": "python",
   "name": "python3"
  },
  "language_info": {
   "codemirror_mode": {
    "name": "ipython",
    "version": 3
   },
   "file_extension": ".py",
   "mimetype": "text/x-python",
   "name": "python",
   "nbconvert_exporter": "python",
   "pygments_lexer": "ipython3",
   "version": "3.9.7"
  }
 },
 "nbformat": 4,
 "nbformat_minor": 5
}
