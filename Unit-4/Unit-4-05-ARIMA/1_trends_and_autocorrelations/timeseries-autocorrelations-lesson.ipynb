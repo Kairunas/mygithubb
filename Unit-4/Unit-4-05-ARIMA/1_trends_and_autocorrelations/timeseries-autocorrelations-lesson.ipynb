{
 "cells": [
  {
   "cell_type": "markdown",
   "metadata": {},
   "source": [
    "<img src=\"http://imgur.com/1ZcRyrc.png\" style=\"float: left; margin: 20px; height: 55px\">\n",
    "\n",
    "# Autocorrelations and time series decomposition\n",
    "\n",
    "\n",
    "\n",
    "---"
   ]
  },
  {
   "cell_type": "markdown",
   "metadata": {},
   "source": [
    "## Learning Objectives\n",
    "\n",
    "### Core\n",
    "\n",
    "- Calculate and plot autocorrelation and partial autocorrelation coefficients\n",
    "- Read and interpret the autocorrelation plots\n",
    "- Obtain a time series decomposition into trend, seasonal and residual components\n",
    "- Know about stationarity as an important model requirement\n",
    "- Use differencing to remove (polynomial) trends\n",
    "\n",
    "### Target\n",
    "\n",
    "- Know about differences between pandas and statsmodels auotcorrelation functions"
   ]
  },
  {
   "cell_type": "markdown",
   "metadata": {
    "toc": true
   },
   "source": [
    "<h1>Lesson Guide<span class=\"tocSkip\"></span></h1>\n",
    "<div class=\"toc\"><ul class=\"toc-item\"><li><span><a href=\"#Learning-Objectives\" data-toc-modified-id=\"Learning-Objectives-1\">Learning Objectives</a></span><ul class=\"toc-item\"><li><span><a href=\"#Core\" data-toc-modified-id=\"Core-1.1\">Core</a></span></li><li><span><a href=\"#Target\" data-toc-modified-id=\"Target-1.2\">Target</a></span></li></ul></li><li><span><a href=\"#Load-the-Unemployment-Data\" data-toc-modified-id=\"Load-the-Unemployment-Data-2\">Load the Unemployment Data</a></span></li><li><span><a href=\"#Create-a-Datetime-Index\" data-toc-modified-id=\"Create-a-Datetime-Index-3\">Create a Datetime Index</a></span></li><li><span><a href=\"#Visually-Examine-the-Unemployment-Rate\" data-toc-modified-id=\"Visually-Examine-the-Unemployment-Rate-4\">Visually Examine the Unemployment Rate</a></span></li><li><span><a href=\"#Autocorrelation-and-the-Autocorrelation-Function-(ACF)\" data-toc-modified-id=\"Autocorrelation-and-the-Autocorrelation-Function-(ACF)-5\">Autocorrelation and the Autocorrelation Function (ACF)</a></span><ul class=\"toc-item\"><li><span><a href=\"#Computing-Autocorrelation\" data-toc-modified-id=\"Computing-Autocorrelation-5.1\">Computing Autocorrelation</a></span></li><li><span><a href=\"#Autocorrelation-Using-Statsmodels\" data-toc-modified-id=\"Autocorrelation-Using-Statsmodels-5.2\">Autocorrelation Using Statsmodels</a></span></li></ul></li><li><span><a href=\"#Partial-Autocorrelation-and-the-Partial-Autocorrelation-Function-(PACF)\" data-toc-modified-id=\"Partial-Autocorrelation-and-the-Partial-Autocorrelation-Function-(PACF)-6\">Partial Autocorrelation and the Partial Autocorrelation Function (PACF)</a></span></li><li><span><a href=\"#Time-Series-Decomposition\" data-toc-modified-id=\"Time-Series-Decomposition-7\">Time Series Decomposition</a></span><ul class=\"toc-item\"><li><ul class=\"toc-item\"><li><span><a href=\"#Questions:\" data-toc-modified-id=\"Questions:-7.0.1\">Questions:</a></span></li></ul></li></ul></li><li><span><a href=\"#Differencing-a-time-series-and-stationarity\" data-toc-modified-id=\"Differencing-a-time-series-and-stationarity-8\">Differencing a time series and stationarity</a></span><ul class=\"toc-item\"><li><span><a href=\"#Difference-the-unemployment-rate-and-plot\" data-toc-modified-id=\"Difference-the-unemployment-rate-and-plot-8.1\">Difference the unemployment rate and plot</a></span></li><li><span><a href=\"#Compare-the-(partial)-autocorrelations-of-the-differenced-and-original-time-series\" data-toc-modified-id=\"Compare-the-(partial)-autocorrelations-of-the-differenced-and-original-time-series-8.2\">Compare the (partial) autocorrelations of the differenced and original time series</a></span></li><li><span><a href=\"#Conclusions\" data-toc-modified-id=\"Conclusions-8.3\">Conclusions</a></span></li></ul></li></ul></div>"
   ]
  },
  {
   "cell_type": "code",
   "execution_count": null,
   "metadata": {},
   "outputs": [],
   "source": [
    "import pandas as pd\n",
    "import numpy as np\n",
    "import matplotlib.pyplot as plt\n",
    "import seaborn as sns\n",
    "import datetime\n",
    "\n",
    "plt.style.use('fivethirtyeight')\n",
    "\n",
    "%matplotlib inline\n",
    "%config InlineBackend.figure_format = 'retina'"
   ]
  },
  {
   "cell_type": "code",
   "execution_count": null,
   "metadata": {},
   "outputs": [],
   "source": [
    "# this will filter out a lot of future warnings from statsmodels\n",
    "import warnings\n",
    "warnings.simplefilter(action='ignore', category=FutureWarning)"
   ]
  },
  {
   "cell_type": "markdown",
   "metadata": {},
   "source": [
    "## Load the Unemployment Data\n",
    "\n",
    "This is the historical monthly data regarding unemployment rates in the United States that we have cleaned in the previous unit. Let's read it in."
   ]
  },
  {
   "cell_type": "code",
   "execution_count": null,
   "metadata": {},
   "outputs": [],
   "source": [
    "data = pd.read_csv('../datasets/unemployment_cleaned.csv', index_col='date')\n",
    "data.dropna(inplace=True)"
   ]
  },
  {
   "cell_type": "code",
   "execution_count": null,
   "metadata": {},
   "outputs": [],
   "source": [
    "data.head()"
   ]
  },
  {
   "cell_type": "markdown",
   "metadata": {},
   "source": [
    "## Visually Examine the Unemployment Rate\n",
    "\n",
    "Plot the unemployment rate."
   ]
  },
  {
   "cell_type": "code",
   "execution_count": null,
   "metadata": {},
   "outputs": [],
   "source": [
    "data['unemployment_rate'].plot(lw=2.5, figsize=(12,5));"
   ]
  },
  {
   "cell_type": "code",
   "execution_count": null,
   "metadata": {},
   "outputs": [],
   "source": [
    "# To perform time series analysis, the date must be the index and stored in datetime format.\n",
    "data.index=pd.to_datetime(data.index)"
   ]
  },
  {
   "cell_type": "code",
   "execution_count": null,
   "metadata": {},
   "outputs": [],
   "source": [
    "# Check the info()\n",
    "data.info()"
   ]
  },
  {
   "cell_type": "markdown",
   "metadata": {},
   "source": [
    "##  Autocorrelation and the Autocorrelation Function (ACF)\n",
    "\n",
    "Previously, our analyses have been concerned with the correlation between two or more variables (height and weight, education and salary, etc.). In time series data, autocorrelation is a measure of _how correlated a variable is with itself_.\n",
    "\n",
    "Specifically, autocorrelation measures how closely **earlier** values relate to values that occur **later** in time.\n",
    "\n",
    "Examples of autocorrelation are:\n",
    "\n",
    "    In stock market data, the stock price at one point is correlated with the stock \n",
    "    price of the point that's directly prior in time. \n",
    "    \n",
    "    In sales data, sales on a Saturday are likely correlated with \n",
    "    sales on the next Saturday and the previous Saturday, as well as other days to more\n",
    "    or less of an extent.\n",
    "\n",
    "Below is the formula for the autocorrelation function (ACF):\n",
    "\n",
    "Given measurements $x_1, x_2, x_3, \\ldots, x_n$ at time points $t_1, t_2, t_3, \\ldots, t_n$:\n",
    "\n",
    "$${\\rm acf}({\\rm lag_k}) = \\frac{\\sum_{t=k+1}^{n}\\left(\\;x_t - \\bar{x}\\;\\right)\\left(\\;x_{t-k} - \\bar{x}\\;\\right)}{\\sum_{t=1}^n\\left(\\;x_t - \\bar{x}\\;\\right)^2}$$\n",
    "\n",
    "Compare this to the formula for correlation:\n",
    "\n",
    "Given measurements $x_1, x_2, x_3, \\ldots, x_n$ and measurements $y_1, y_2, y_3, \\ldots, y_n$:\n",
    "\n",
    "$$r_{xy} = \\frac{\\sum_{i=1}^{n}\\left(\\;x_i - \\bar{x}\\;\\right)\\left(\\;y_{i} - \\bar{y}\\;\\right)}{\\sqrt{\\left(\\sum_{i=1}^{n}\\left(\\;x_i - \\bar{x}\\;\\right)^2\\sum_{i=1}^n\\left(\\;y_i - \\bar{y}\\;\\right)^2\\right)}}$$\n",
    "\n",
    "\n",
    "In this sum, the **lag** $k$ indicates to sum over all pairs of points which are that lag apart."
   ]
  },
  {
   "cell_type": "markdown",
   "metadata": {},
   "source": [
    "### Autocorrelation Using Statsmodels\n",
    "\n",
    "Statsmodels comes with some convenient packages for calculating and plotting autocorrelation. Load up these two functions and try them out:\n",
    "\n",
    "```python\n",
    "from statsmodels.tsa.stattools import acf\n",
    "from statsmodels.graphics.tsaplots import plot_acf\n",
    "```"
   ]
  },
  {
   "cell_type": "code",
   "execution_count": null,
   "metadata": {},
   "outputs": [],
   "source": [
    "from statsmodels.tsa.stattools import acf"
   ]
  },
  {
   "cell_type": "markdown",
   "metadata": {},
   "source": [
    "To calculate the autocorrelations, we pass the unemployment rate series to the `acf` function. "
   ]
  },
  {
   "cell_type": "code",
   "execution_count": null,
   "metadata": {},
   "outputs": [],
   "source": [
    "urate = data['unemployment_rate']"
   ]
  },
  {
   "cell_type": "code",
   "execution_count": null,
   "metadata": {},
   "outputs": [],
   "source": [
    "urate"
   ]
  },
  {
   "cell_type": "code",
   "execution_count": null,
   "metadata": {},
   "outputs": [],
   "source": [
    "acf(urate,nlags=20)"
   ]
  },
  {
   "cell_type": "code",
   "execution_count": null,
   "metadata": {},
   "outputs": [],
   "source": [
    "from statsmodels.graphics.tsaplots import plot_acf\n",
    "\n",
    "fig, ax = plt.subplots(figsize=(12,5))\n",
    "plot_acf(urate, lags=20, ax=ax)\n",
    "plt.show()"
   ]
  },
  {
   "cell_type": "markdown",
   "metadata": {},
   "source": [
    "The autocorrelation plot is used to quickly identify the lag values which have highest correlation. \n",
    "\n",
    "The filled blue space shows the 95% confidence interval for the correlation values.  The points inside the blue space are likely to be noise and do not imply any valuable correlation.  With the default 95% confidence interval we can expect that 5% of observations could fall outside this boundary, and those that do are the ones we should consider for further investigation about correlation.\n",
    "\n",
    "Based on the autocorrelation plot for the unemployement rate:\n",
    "\n",
    "Lag 0: The point at lag 0 has high correlation (1!) Why??\n",
    "Lag 1: High correlation between consecutive months. (January unemployment has correlation with February, etc)\n",
    "Lag 2: High correlation for 2 month lag: (January has correlation with March)\n",
    "etc\n",
    "\n"
   ]
  },
  {
   "cell_type": "markdown",
   "metadata": {},
   "source": [
    "## Partial Autocorrelation and the Partial Autocorrelation Function (PACF)\n",
    "\n",
    "\n",
    "Another important chart for diagnosing your time series is the partial autocorrelation chart (PACF). This is similar to autocorrelation, but, instead of being just the correlation at increasing lags, it is the correlation at a given lag, _controlling for the effect of lags in between._\n",
    "\n",
    "Load up the sister functions for partial autocorrelation from Statsmodels and test them out on the differenced time series.\n",
    "\n",
    "```python\n",
    "from statsmodels.tsa.stattools import pacf\n",
    "from statsmodels.graphics.tsaplots import plot_pacf\n",
    "```"
   ]
  },
  {
   "cell_type": "code",
   "execution_count": null,
   "metadata": {},
   "outputs": [],
   "source": [
    "from statsmodels.tsa.stattools import pacf"
   ]
  },
  {
   "cell_type": "code",
   "execution_count": null,
   "metadata": {},
   "outputs": [],
   "source": [
    "pacf(urate,nlags=20)"
   ]
  },
  {
   "cell_type": "code",
   "execution_count": null,
   "metadata": {},
   "outputs": [],
   "source": [
    "from statsmodels.graphics.tsaplots import plot_pacf\n",
    "\n",
    "fig, ax = plt.subplots(figsize=(12,5))\n",
    "plot_pacf(urate, lags=30, ax=ax)\n",
    "plt.show()"
   ]
  },
  {
   "cell_type": "markdown",
   "metadata": {},
   "source": [
    "The partial autocorrelation shows significant correlation for lag 1, which means the month immediately preceding the current month. We can see now that the other lags are not significant, which helps us to determine that only lag 1 needs to be considered for the model.\n"
   ]
  },
  {
   "cell_type": "markdown",
   "metadata": {},
   "source": [
    "The time series models we are going to consider try to capture the information contained in the (partial) autocorrelations.\n",
    "\n",
    "Let's create a function to display autocorrelations and partial autocorrelations together."
   ]
  },
  {
   "cell_type": "code",
   "execution_count": null,
   "metadata": {},
   "outputs": [],
   "source": [
    "def autocorr_plots(y, lags=None):\n",
    "    fig, ax = plt.subplots(ncols=2, figsize=(12, 4), sharey=True)\n",
    "    plot_acf(y, lags=lags, ax=ax[0])\n",
    "    plot_pacf(y, lags=lags, ax=ax[1])\n",
    "    return fig, ax"
   ]
  },
  {
   "cell_type": "code",
   "execution_count": null,
   "metadata": {},
   "outputs": [],
   "source": [
    "fig, ax = autocorr_plots(urate,lags=20)"
   ]
  },
  {
   "cell_type": "markdown",
   "metadata": {},
   "source": [
    "## Time Series Decomposition\n",
    "\n",
    "$$ Y_t = T_t + S_t + R_t $$\n",
    "\n",
    "- $Y_t = $ observed value at time $t$\n",
    "- $T_t = $ trend component, *long-term behavior*\n",
    "- $S_t = $ seasonality component, *periodic fluctuations*\n",
    "- $R_t = $ residual, *non-periodic fluctuations*\n",
    "\n",
    "\n",
    "> The decomposition above is additive; it can also be multiplicative.\n"
   ]
  },
  {
   "cell_type": "markdown",
   "metadata": {},
   "source": [
    "There are several algorithms for performing this decomposition\n",
    "\n",
    "- Classical decomp., [https://www.otexts.org/fpp/6/3](https://www.otexts.org/fpp/6/3)\n",
    "- X-12-ARIMA, [https://www.otexts.org/fpp/6/4](https://www.otexts.org/fpp/6/4)\n",
    "- STL, [https://www.otexts.org/fpp/6/5](https://www.otexts.org/fpp/6/5)\n",
    "\n",
    "See also `seasonal_decompose` in `statsmodel.tsa.seasonal`.  \n",
    "\n",
    "> Nice tutorial here: [http://machinelearningmastery.com/decompose-time-series-data-trend-seasonality/](http://machinelearningmastery.com/decompose-time-series-data-trend-seasonality/)\n"
   ]
  },
  {
   "cell_type": "markdown",
   "metadata": {},
   "source": [
    "#### Questions:\n",
    "\n",
    "- *What is the long-term behavior of my series?*\n",
    "- *How does my time series fluctuate?*\n"
   ]
  },
  {
   "cell_type": "code",
   "execution_count": null,
   "metadata": {},
   "outputs": [],
   "source": [
    "from statsmodels.tsa.seasonal import seasonal_decompose"
   ]
  },
  {
   "cell_type": "code",
   "execution_count": null,
   "metadata": {},
   "outputs": [],
   "source": [
    "result = seasonal_decompose(urate)\n",
    "fig = result.plot()\n",
    "fig.set_size_inches(10,10)\n",
    "plt.tight_layout()\n",
    "plt.show()"
   ]
  },
  {
   "cell_type": "markdown",
   "metadata": {},
   "source": [
    "The `seasonal_decompose()` function first tries to isolate the trends from the data, by smoothing out using a moving average. \n",
    "Then, it will identify the seasonality by introducing a cycle in the data that matches the cycles in the observations.\n",
    "Finally, it calculates the residuals, which will be the difference between the actual observation and the (trend + seasonality) that has been calculated. We can see this by comparing the results of the decomposition. "
   ]
  },
  {
   "cell_type": "code",
   "execution_count": null,
   "metadata": {},
   "outputs": [],
   "source": [
    "# Let's create a pandas dataframe to compare the results of the decomposition\n",
    "decomp=pd.DataFrame()"
   ]
  },
  {
   "cell_type": "code",
   "execution_count": null,
   "metadata": {},
   "outputs": [],
   "source": [
    "# The actual observed data \n",
    "decomp['actual'] = urate"
   ]
  },
  {
   "cell_type": "code",
   "execution_count": null,
   "metadata": {},
   "outputs": [],
   "source": [
    "# The calculated values from seasonal_decompose()\n",
    "decomp['residuals']=result.resid\n",
    "decomp['trend']=result.trend\n",
    "decomp['seasonality']=result.seasonal"
   ]
  },
  {
   "cell_type": "code",
   "execution_count": null,
   "metadata": {},
   "outputs": [],
   "source": [
    "# The default setting is 'additive' decomposition, \n",
    "# so the sum of the three components should give us the original observed values. \n",
    "# add a column to check\n",
    "decomp['calc'] = decomp['residuals']+decomp['trend']+decomp['seasonality']"
   ]
  },
  {
   "cell_type": "code",
   "execution_count": null,
   "metadata": {},
   "outputs": [],
   "source": [
    "# Check the decomp dataframe\n",
    "decomp.head(20)"
   ]
  },
  {
   "cell_type": "markdown",
   "metadata": {},
   "source": [
    "A 12-month moving average has been used, and you can see that the seasonality values repeat every 12 months.\n",
    "You can compare the results by using `model='multiplicative` or a shorter or longer seasonal period. "
   ]
  },
  {
   "cell_type": "markdown",
   "metadata": {},
   "source": [
    "To have a closer look at what the seasonal_decompose() is doing, let's zoom in on the last three years' of data."
   ]
  },
  {
   "cell_type": "code",
   "execution_count": null,
   "metadata": {},
   "outputs": [],
   "source": [
    "# check how many months' data we have\n",
    "n = len(urate)\n",
    "\n",
    "# Use the last 36 months\n",
    "result_recent = seasonal_decompose(urate.iloc[n-36:n])\n",
    "fig = result_recent.plot()\n",
    "fig.set_size_inches(10,10)\n",
    "plt.tight_layout()\n",
    "plt.show()"
   ]
  },
  {
   "cell_type": "markdown",
   "metadata": {},
   "source": [
    "We can check if the seasonality period is appropriate by plotting the residuals:"
   ]
  },
  {
   "cell_type": "code",
   "execution_count": null,
   "metadata": {},
   "outputs": [],
   "source": [
    "result_recent.resid.plot()"
   ]
  },
  {
   "cell_type": "markdown",
   "metadata": {},
   "source": [
    "If the residuals still show some seasonality, this might indicate that the seasonality cycle of 12 months may not be suitable and we can adjust the period."
   ]
  },
  {
   "cell_type": "code",
   "execution_count": null,
   "metadata": {},
   "outputs": [],
   "source": [
    "result_recent = seasonal_decompose(urate.iloc[n-36:n], period=5)\n",
    "fig = result_recent.plot()\n",
    "fig.set_size_inches(10,10)\n",
    "plt.tight_layout()\n",
    "plt.show()"
   ]
  },
  {
   "cell_type": "markdown",
   "metadata": {},
   "source": [
    "## Differencing a time series and stationarity\n",
    "\n",
    "If a time series is stationary, the mean, variance, and covariance are unchanged by time shifts. Forecasting methods typically assume that the time series you are forecasting on are stationary, or at least approximately stationary. For any two instances in time t and s one has:\n",
    "\n",
    "$${\\rm E}(Y_t) = \\mu$$\n",
    "$${\\rm Var}(Y_t) =  \\sigma^2$$\n",
    "$${\\rm Cov}(Y_t, Y_s) =  \\gamma(|t - s|)$$\n",
    "\n",
    "The last relation implies that the covariance between two time points depends only on the time difference between them, the so-called lag, i.e. taking t=10, s=20 or t=15, s=25 would give the same covariance.\n",
    "\n",
    "If a time series is not stationary, often it can be transformed to a stationary form. The most common way to make a time series stationary is to perform \"differencing\". This procedure converts a time series into the difference between consecutive values:\n",
    " \n",
    "$$\\Delta Y_t = Y_t - Y_{t-1}$$\n",
    "\n",
    "This removes polynomial trends in the time series. In the case of a linear trend, there will only be a need for a single differencing, but otherwise taking further differences might be required to remove trends. If the trend is not of polynomial type, it might be convenient to transform the data first (e.g. by taking the log, square root, etc.).\n",
    "\n",
    "Here, we will limit to inspection by eye to judge if a time series is stationary to a sufficient degree. There are also statistical tests available to check for stationarity, e.g.\n",
    "\n",
    "- [(Augmented) Dickey-Fuller test]( https://en.wikipedia.org/wiki/Dickey%E2%80%93Fuller_test)\n",
    " - [statsmodels implementation](http://www.statsmodels.org/dev/generated/statsmodels.tsa.stattools.adfuller.html)\n",
    "- [Kwiatkowski–Phillips–Schmidt–Shin (KPSS) test](https://en.wikipedia.org/wiki/KPSS_test)\n",
    " - [statsmodels implementation](http://www.statsmodels.org/dev/generated/statsmodels.tsa.stattools.kpss.html)"
   ]
  },
  {
   "cell_type": "markdown",
   "metadata": {},
   "source": [
    "### Difference the unemployment rate and plot"
   ]
  },
  {
   "cell_type": "code",
   "execution_count": null,
   "metadata": {},
   "outputs": [],
   "source": [
    "data['unemp_diff'] = data['unemployment_rate'].diff()"
   ]
  },
  {
   "cell_type": "code",
   "execution_count": null,
   "metadata": {},
   "outputs": [],
   "source": [
    "data['unemp_diff'].plot(lw=2.5, figsize=(12,5));"
   ]
  },
  {
   "cell_type": "markdown",
   "metadata": {},
   "source": [
    "### Compare the (partial) autocorrelations of the differenced and original time series\n",
    "\n",
    "> Note: Remove missing values from the differenced time series.\n",
    "\n",
    "How is it if you even difference twice?"
   ]
  },
  {
   "cell_type": "code",
   "execution_count": null,
   "metadata": {},
   "outputs": [],
   "source": [
    "fig, ax = autocorr_plots(urate,lags=20)"
   ]
  },
  {
   "cell_type": "code",
   "execution_count": null,
   "metadata": {},
   "outputs": [],
   "source": [
    "# Start from 1 to not include the NaN\n",
    "fig, ax = autocorr_plots(urate.diff()[1:],lags=20)"
   ]
  },
  {
   "cell_type": "code",
   "execution_count": null,
   "metadata": {},
   "outputs": [],
   "source": [
    "fig, ax = autocorr_plots(urate.diff().diff()[2:],lags=20)"
   ]
  },
  {
   "cell_type": "code",
   "execution_count": null,
   "metadata": {},
   "outputs": [],
   "source": [
    "decomp = seasonal_decompose(urate)\n",
    "decomp.plot();"
   ]
  },
  {
   "cell_type": "code",
   "execution_count": null,
   "metadata": {},
   "outputs": [],
   "source": [
    "decomp = seasonal_decompose(urate.diff()[1:])\n",
    "decomp.plot();"
   ]
  },
  {
   "cell_type": "markdown",
   "metadata": {},
   "source": [
    "Are there any trends shown in the differenced series?"
   ]
  },
  {
   "cell_type": "markdown",
   "metadata": {},
   "source": [
    "### Conclusions\n",
    "\n",
    "Time series decomposition and analysis of autocorrelations will be the starting point of any time series analysis. They will give us useful information about which model to use."
   ]
  }
 ],
 "metadata": {
  "kernelspec": {
   "display_name": "Python 3 (ipykernel)",
   "language": "python",
   "name": "python3"
  },
  "language_info": {
   "codemirror_mode": {
    "name": "ipython",
    "version": 3
   },
   "file_extension": ".py",
   "mimetype": "text/x-python",
   "name": "python",
   "nbconvert_exporter": "python",
   "pygments_lexer": "ipython3",
   "version": "3.9.7"
  },
  "toc": {
   "nav_menu": {},
   "number_sections": false,
   "sideBar": true,
   "skip_h1_title": true,
   "title_cell": "Lesson Guide",
   "title_sidebar": "Contents",
   "toc_cell": true,
   "toc_position": {},
   "toc_section_display": true,
   "toc_window_display": false
  }
 },
 "nbformat": 4,
 "nbformat_minor": 2
}
